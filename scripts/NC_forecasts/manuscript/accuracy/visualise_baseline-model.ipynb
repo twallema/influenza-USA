{
 "cells": [
  {
   "cell_type": "code",
   "execution_count": 8,
   "id": "25be7799-10c2-48c1-a70b-b0e7c168a737",
   "metadata": {},
   "outputs": [],
   "source": [
    "import numpy as np\n",
    "import pandas as pd\n",
    "import matplotlib.pyplot as plt\n",
    "import matplotlib.dates as mdates\n",
    "from datetime import datetime\n",
    "from influenza_USA.NC_forecasts.utils import get_NC_influenza_data, simulate_baseline_model"
   ]
  },
  {
   "cell_type": "markdown",
   "id": "4ec7c3ff-6547-453c-afd9-d86ed12ee8f3",
   "metadata": {
    "scrolled": true
   },
   "source": [
    "## Visualise baseline model"
   ]
  },
  {
   "cell_type": "code",
   "execution_count": 31,
   "id": "7db6395c-3227-45ea-807e-c273e3758807",
   "metadata": {},
   "outputs": [
    {
     "data": {
      "image/png": "[encoded data removed]",
      "text/plain": [
       "<Figure size 415x234 with 1 Axes>"
      ]
     },
     "metadata": {},
     "output_type": "display_data"
    }
   ],
   "source": [
    "# settings\n",
    "start_visualisation_month = 11\n",
    "end_visualisation_month = 5\n",
    "season = '2023-2024'\n",
    "number_simulations = 4\n",
    "sigma = 0.375\n",
    "\n",
    "# format dates\n",
    "start_visualisation = datetime(int(season[0:4]), start_visualisation_month, 1)\n",
    "end_visualisation = datetime(int(season[0:4])+1, end_visualisation_month, 1)\n",
    "\n",
    "# load NC data\n",
    "data = 7*get_NC_influenza_data(start_visualisation, end_visualisation, season)['H_inc']\n",
    "\n",
    "# find good equi-spaced startdates for the baseline visualisation\n",
    "indices = np.linspace(0, len(data.index) - 1, number_simulations+1, dtype=int)\n",
    "selected_dates = data.index[indices][:-1]\n",
    "\n",
    "# simulate baseline model on these dates\n",
    "simout = []\n",
    "for date in selected_dates:\n",
    "    simout.append(simulate_baseline_model(sigma, date, data.loc[date], 100000, 4))\n",
    "\n",
    "# make a figure\n",
    "fig,ax=plt.subplots(figsize=(8.3/2, 11.7/5))\n",
    "## data\n",
    "ax.scatter(data.index, data, marker='o', s=20, color='black')\n",
    "## model\n",
    "for sim in simout:\n",
    "    x = sim['target_end_date'].unique()\n",
    "    ax.plot(x, list(sim.loc[sim['output_type_id']==0.50, 'value'].values), color='blue', linewidth=1)\n",
    "    ax.fill_between(x, list(sim.loc[sim['output_type_id']==0.025, 'value'].values),\n",
    "                        list(sim.loc[sim['output_type_id']==0.975, 'value'].values),\n",
    "                            color='blue', alpha=0.15)\n",
    "    ax.fill_between(x, list(sim.loc[sim['output_type_id']==0.25, 'value'].values),\n",
    "                       list(sim.loc[sim['output_type_id']==0.75, 'value'].values),\n",
    "                           color='blue', alpha=0.15)\n",
    "## formatting\n",
    "# no spines\n",
    "ax.spines['top'].set_visible(False)\n",
    "ax.spines['right'].set_visible(False)\n",
    "ax.spines['left'].set_visible(False)\n",
    "# months only\n",
    "ax.xaxis.set_major_locator(mdates.MonthLocator(interval=2))\n",
    "ax.xaxis.set_major_formatter(mdates.DateFormatter('%b'))\n",
    "# no ticks\n",
    "ax.set_yticks([])\n",
    "\n",
    "plt.tight_layout()\n",
    "plt.savefig(f'baseline-model_{season}.pdf')\n",
    "plt.show()\n",
    "plt.close()\n"
   ]
  },
  {
   "cell_type": "code",
   "execution_count": null,
   "id": "456f1838",
   "metadata": {},
   "outputs": [],
   "source": []
  }
 ],
 "metadata": {
  "kernelspec": {
   "display_name": "INFLUENZA-USA",
   "language": "python",
   "name": "python3"
  },
  "language_info": {
   "codemirror_mode": {
    "name": "ipython",
    "version": 3
   },
   "file_extension": ".py",
   "mimetype": "text/x-python",
   "name": "python",
   "nbconvert_exporter": "python",
   "pygments_lexer": "ipython3",
   "version": "3.12.5"
  }
 },
 "nbformat": 4,
 "nbformat_minor": 5
}
