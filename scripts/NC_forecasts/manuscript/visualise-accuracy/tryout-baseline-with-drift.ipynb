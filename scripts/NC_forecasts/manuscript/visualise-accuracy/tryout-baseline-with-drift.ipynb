{
 "cells": [
  {
   "cell_type": "code",
   "execution_count": 1,
   "id": "ff108a26",
   "metadata": {},
   "outputs": [],
   "source": [
    "import pandas as pd\n",
    "import numpy as np\n",
    "import xarray as xr\n",
    "from datetime import datetime, timedelta\n",
    "from scipy.stats import linregress\n",
    "from influenza_USA.NC_forecasts.utils import get_NC_influenza_data, compute_WIS, simulate_geometric_random_walk, get_historic_drift"
   ]
  },
  {
   "cell_type": "code",
   "execution_count": 12,
   "id": "5517c524",
   "metadata": {},
   "outputs": [],
   "source": [
    "# settings\n",
    "start_baseline_month = 12 # expressed as Hubverse reference date\n",
    "start_baseline_day = 1\n",
    "end_baseline_month = 4\n",
    "end_baseline_day = 7\n",
    "forecast_horizon = 4\n",
    "sigma = 0.325\n",
    "variable_drift = True\n",
    "flat = False\n",
    "seasons = ['2014-2015','2015-2016', '2016-2017', '2017-2018', '2018-2019', '2019-2020', '2023-2024']"
   ]
  },
  {
   "cell_type": "code",
   "execution_count": 13,
   "id": "b5782dcc",
   "metadata": {},
   "outputs": [
    {
     "name": "stdout",
     "output_type": "stream",
     "text": [
      "80.79086613261721\n",
      "565.5360629283205\n"
     ]
    }
   ],
   "source": [
    "# LOOP seasons\n",
    "collect_seasons=[]\n",
    "for focal_season in seasons:\n",
    "    ## get the current season's data\n",
    "    data = 7*get_NC_influenza_data(datetime(int(focal_season[0:4]), start_baseline_month, start_baseline_day) - timedelta(weeks=1),\n",
    "                                    datetime(int(focal_season[0:4])+1, end_baseline_month, end_baseline_day)+timedelta(weeks=4),\n",
    "                                    focal_season)['H_inc']\n",
    "    ## LOOP weeks\n",
    "    collect_weeks=[]\n",
    "    for date in data.index[:-4]:\n",
    "        ### COMPUTE historical drift \n",
    "        if variable_drift:\n",
    "            mu_horizon = []\n",
    "            for i in range(forecast_horizon):\n",
    "                ### GET historical drift \n",
    "                mu, _ = get_historic_drift(focal_season, seasons, date+timedelta(weeks=i), 2)\n",
    "                mu_horizon.append(mu)\n",
    "        else:\n",
    "            if flat:\n",
    "                mu_horizon = np.zeros(forecast_horizon)\n",
    "            else:\n",
    "                mu, _ = get_historic_drift(focal_season, seasons, date, 4)\n",
    "                mu_horizon = mu * np.ones(forecast_horizon)\n",
    "        ### SIMULATE baseline model\n",
    "        simout = simulate_geometric_random_walk(mu_horizon, 0.325, date, data[date], n_sim=1000, n_weeks=forecast_horizon)\n",
    "        ### COMPUTE WIS score\n",
    "        collect_weeks.append(compute_WIS(simout, data))\n",
    "    ## CONCATENATE WEEKS\n",
    "    collect_weeks = pd.concat(collect_weeks, axis=0)\n",
    "    collect_weeks = collect_weeks.reset_index()\n",
    "    collect_weeks['season'] = focal_season\n",
    "    collect_seasons.append(collect_weeks)\n",
    "# CONCATENATE SEASONS\n",
    "collect_seasons = pd.concat(collect_seasons, axis=0)\n",
    "print(np.mean(collect_seasons.groupby(by=['season'])['WIS'].mean()))\n",
    "print(np.sum(collect_seasons.groupby(by=['season'])['WIS'].mean()))"
   ]
  }
 ],
 "metadata": {
  "kernelspec": {
   "display_name": "INFLUENZA-USA",
   "language": "python",
   "name": "python3"
  },
  "language_info": {
   "codemirror_mode": {
    "name": "ipython",
    "version": 3
   },
   "file_extension": ".py",
   "mimetype": "text/x-python",
   "name": "python",
   "nbconvert_exporter": "python",
   "pygments_lexer": "ipython3",
   "version": "3.12.5"
  }
 },
 "nbformat": 4,
 "nbformat_minor": 5
}
