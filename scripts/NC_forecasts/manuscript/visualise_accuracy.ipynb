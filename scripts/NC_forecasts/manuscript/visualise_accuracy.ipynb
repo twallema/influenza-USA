{
 "cells": [
  {
   "cell_type": "code",
   "execution_count": 1,
   "id": "25be7799-10c2-48c1-a70b-b0e7c168a737",
   "metadata": {},
   "outputs": [],
   "source": [
    "import pandas as pd\n",
    "import matplotlib.pyplot as plt"
   ]
  },
  {
   "cell_type": "markdown",
   "id": "4ec7c3ff-6547-453c-afd9-d86ed12ee8f3",
   "metadata": {
    "scrolled": true
   },
   "source": [
    "## Leave-one-out analysis"
   ]
  },
  {
   "cell_type": "code",
   "execution_count": 2,
   "id": "5a8aa32b-a6f3-4c68-a67c-905de59e981f",
   "metadata": {},
   "outputs": [
    {
     "name": "stdout",
     "output_type": "stream",
     "text": [
      "model                informed  use_ED_visits\n",
      "oneStrain            False     False            0.107723\n",
      "                               True             0.099522\n",
      "                     True      False            0.083015\n",
      "                               True             0.085229\n",
      "sequentialTwoStrain  False     False            0.108011\n",
      "                               True             0.103508\n",
      "                     True      False            0.084234\n",
      "                               True             0.077877\n",
      "Name: WIS, dtype: float64\n",
      "\n",
      "\n",
      "model                informed  use_ED_visits  season   \n",
      "oneStrain            False     False          2014-2015    0.134766\n",
      "                                              2015-2016    0.129770\n",
      "                                              2016-2017    0.123056\n",
      "                                              2017-2018    0.094468\n",
      "                                              2018-2019    0.095871\n",
      "                                              2019-2020    0.112667\n",
      "                                              2023-2024    0.067112\n",
      "                               True           2014-2015    0.120413\n",
      "                                              2015-2016    0.111644\n",
      "                                              2016-2017    0.125290\n",
      "                                              2017-2018    0.093212\n",
      "                                              2018-2019    0.087227\n",
      "                                              2019-2020    0.109994\n",
      "                                              2023-2024    0.052520\n",
      "                     True      False          2014-2015    0.080308\n",
      "                                              2015-2016    0.101207\n",
      "                                              2016-2017    0.096561\n",
      "                                              2017-2018    0.094913\n",
      "                                              2018-2019    0.083201\n",
      "                                              2019-2020    0.092790\n",
      "                                              2023-2024    0.034166\n",
      "                               True           2014-2015    0.092888\n",
      "                                              2015-2016    0.097500\n",
      "                                              2016-2017    0.090541\n",
      "                                              2017-2018    0.110664\n",
      "                                              2018-2019    0.085769\n",
      "                                              2019-2020    0.092898\n",
      "                                              2023-2024    0.028074\n",
      "sequentialTwoStrain  False     False          2014-2015    0.124716\n",
      "                                              2015-2016    0.120733\n",
      "                                              2016-2017    0.126948\n",
      "                                              2017-2018    0.100215\n",
      "                                              2018-2019    0.108738\n",
      "                                              2019-2020    0.112099\n",
      "                                              2023-2024    0.065388\n",
      "                               True           2014-2015    0.120866\n",
      "                                              2015-2016    0.135140\n",
      "                                              2016-2017    0.119835\n",
      "                                              2017-2018    0.092504\n",
      "                                              2018-2019    0.084563\n",
      "                                              2019-2020    0.115093\n",
      "                                              2023-2024    0.060605\n",
      "                     True      False          2014-2015    0.095085\n",
      "                                              2015-2016    0.092178\n",
      "                                              2016-2017    0.089328\n",
      "                                              2017-2018    0.095543\n",
      "                                              2018-2019    0.088938\n",
      "                                              2019-2020    0.090209\n",
      "                                              2023-2024    0.039928\n",
      "                               True           2014-2015    0.085904\n",
      "                                              2015-2016    0.088928\n",
      "                                              2016-2017    0.084513\n",
      "                                              2017-2018    0.088870\n",
      "                                              2018-2019    0.072948\n",
      "                                              2019-2020    0.091412\n",
      "                                              2023-2024    0.034633\n",
      "Name: WIS, dtype: float64\n"
     ]
    }
   ],
   "source": [
    "print(pd.read_csv('accuracy-leave-one-out.csv', parse_dates=True).groupby(['model', 'informed', 'use_ED_visits'])['WIS'].mean())\n",
    "print('\\n')\n",
    "print(pd.read_csv('accuracy-leave-one-out.csv', parse_dates=True).groupby(['model','informed', 'use_ED_visits', 'season'])['WIS'].mean())"
   ]
  },
  {
   "cell_type": "code",
   "execution_count": 4,
   "id": "7db6395c-3227-45ea-807e-c273e3758807",
   "metadata": {},
   "outputs": [
    {
     "name": "stdout",
     "output_type": "stream",
     "text": [
      "model                informed  use_ED_visits  peaks   \n",
      "oneStrain            False     False          multiple    0.106209\n",
      "                                              one         0.109760\n",
      "                               True           multiple    0.103560\n",
      "                                              one         0.094089\n",
      "                     True      False          multiple    0.091790\n",
      "                                              one         0.071208\n",
      "                               True           multiple    0.095056\n",
      "                                              one         0.072007\n",
      "sequentialTwoStrain  False     False          multiple    0.111797\n",
      "                                              one         0.102917\n",
      "                               True           multiple    0.102608\n",
      "                                              one         0.104720\n",
      "                     True      False          multiple    0.091038\n",
      "                                              one         0.075080\n",
      "                               True           multiple    0.084340\n",
      "                                              one         0.069182\n",
      "Name: WIS, dtype: float64\n"
     ]
    }
   ],
   "source": [
    "# load data\n",
    "data = pd.read_csv('accuracy-leave-one-out.csv', parse_dates=True)\n",
    "# append number of peaks\n",
    "data.loc[data['season'].isin(['2014-2015', '2015-2016', '2017-2018', '2023-2024']), 'peaks'] = 'one'\n",
    "data.loc[data['season'].isin(['2016-2017', '2018-2019', '2019-2020', '2017-2018']), 'peaks'] = 'multiple' # double counting 2017-2018 because it is an edge case\n",
    "# groupby number of peaks\n",
    "print(data.groupby(['model','informed', 'use_ED_visits', 'peaks'])['WIS'].mean())"
   ]
  },
  {
   "cell_type": "markdown",
   "id": "96ac542a-8096-4467-a414-d3de46b394c7",
   "metadata": {},
   "source": [
    "## Incremental calibration 2023-2024"
   ]
  },
  {
   "cell_type": "code",
   "execution_count": 5,
   "id": "36b74445-6757-4ef4-8054-82f357e72061",
   "metadata": {},
   "outputs": [],
   "source": [
    "data = pd.read_csv('accuracy-training-x.csv', parse_dates=True).groupby(['model', 'training_horizon', 'use_ED_visits', 'season'])['WIS'].mean()"
   ]
  },
  {
   "cell_type": "code",
   "execution_count": 6,
   "id": "53dbb180-7c4d-4827-88e9-e7093c9ac3b7",
   "metadata": {},
   "outputs": [
    {
     "data": {
      "image/png": "[encoded data removed]",
      "text/plain": [
       "<Figure size 830x292.5 with 1 Axes>"
      ]
     },
     "metadata": {},
     "output_type": "display_data"
    }
   ],
   "source": [
    "fig,ax=plt.subplots(figsize=(8.3, 11.7/4))\n",
    "# sequentialTwoStrain\n",
    "ax.plot(data.index.get_level_values('training_horizon').unique(), data.values, marker='s', color='black', markersize=6, label='sequentialTwoStrain')\n",
    "# oneStrain\n",
    "\n",
    "# formatting\n",
    "ax.set_ylim([0.03, 0.07])\n",
    "ax.set_xticks(data.index.get_level_values('training_horizon').unique())\n",
    "ax.set_xticks(ax.get_xticks(), ['2023-2024', '2019-2020', '2018-2019', '2017-2018', '2016-2017', '2015-2016', '2014-2015'], rotation=15, ha='center')\n",
    "ax.set_xlabel('Training history')\n",
    "ax.set_ylabel('WIS 2023-2024 season (-)')\n",
    "ax.legend()\n",
    "plt.tight_layout()\n",
    "plt.show()\n",
    "plt.close()"
   ]
  },
  {
   "cell_type": "code",
   "execution_count": null,
   "id": "cd151352-ecf2-41be-8af3-af6cc10da27b",
   "metadata": {},
   "outputs": [],
   "source": []
  }
 ],
 "metadata": {
  "kernelspec": {
   "display_name": "Python 3 (ipykernel)",
   "language": "python",
   "name": "python3"
  },
  "language_info": {
   "codemirror_mode": {
    "name": "ipython",
    "version": 3
   },
   "file_extension": ".py",
   "mimetype": "text/x-python",
   "name": "python",
   "nbconvert_exporter": "python",
   "pygments_lexer": "ipython3",
   "version": "3.12.5"
  }
 },
 "nbformat": 4,
 "nbformat_minor": 5
}
