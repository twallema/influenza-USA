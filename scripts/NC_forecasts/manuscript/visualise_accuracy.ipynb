{
 "cells": [
  {
   "cell_type": "code",
   "execution_count": 1,
   "id": "25be7799-10c2-48c1-a70b-b0e7c168a737",
   "metadata": {},
   "outputs": [],
   "source": [
    "import pandas as pd"
   ]
  },
  {
   "cell_type": "code",
   "execution_count": 2,
   "id": "f5f5f0d8-b387-4717-82f9-00146bf48876",
   "metadata": {
    "scrolled": true
   },
   "outputs": [
    {
     "data": {
      "text/plain": [
       "model                informed  use_ED_visits\n",
       "oneStrain            False     False            0.107723\n",
       "                               True             0.099522\n",
       "                     True      False            0.083015\n",
       "                               True             0.085229\n",
       "sequentialTwoStrain  False     False            0.108011\n",
       "                               True             0.103508\n",
       "                     True      False            0.084234\n",
       "                               True             0.077877\n",
       "Name: WIS, dtype: float64"
      ]
     },
     "execution_count": 2,
     "metadata": {},
     "output_type": "execute_result"
    }
   ],
   "source": [
    "pd.read_csv('accuracy.csv', parse_dates=True).groupby(['model', 'informed', 'use_ED_visits'])['WIS'].mean()"
   ]
  },
  {
   "cell_type": "code",
   "execution_count": 3,
   "id": "d6716602-1190-42fc-9572-fe1832f95c4b",
   "metadata": {},
   "outputs": [
    {
     "data": {
      "text/plain": [
       "model                informed  use_ED_visits  season   \n",
       "oneStrain            False     False          2014-2015    0.134766\n",
       "                                              2015-2016    0.129770\n",
       "                                              2016-2017    0.123056\n",
       "                                              2017-2018    0.094468\n",
       "                                              2018-2019    0.095871\n",
       "                                              2019-2020    0.112667\n",
       "                                              2023-2024    0.067112\n",
       "                               True           2014-2015    0.120413\n",
       "                                              2015-2016    0.111644\n",
       "                                              2016-2017    0.125290\n",
       "                                              2017-2018    0.093212\n",
       "                                              2018-2019    0.087227\n",
       "                                              2019-2020    0.109994\n",
       "                                              2023-2024    0.052520\n",
       "                     True      False          2014-2015    0.080308\n",
       "                                              2015-2016    0.101207\n",
       "                                              2016-2017    0.096561\n",
       "                                              2017-2018    0.094913\n",
       "                                              2018-2019    0.083201\n",
       "                                              2019-2020    0.092790\n",
       "                                              2023-2024    0.034166\n",
       "                               True           2014-2015    0.092888\n",
       "                                              2015-2016    0.097500\n",
       "                                              2016-2017    0.090541\n",
       "                                              2017-2018    0.110664\n",
       "                                              2018-2019    0.085769\n",
       "                                              2019-2020    0.092898\n",
       "                                              2023-2024    0.028074\n",
       "sequentialTwoStrain  False     False          2014-2015    0.124716\n",
       "                                              2015-2016    0.120733\n",
       "                                              2016-2017    0.126948\n",
       "                                              2017-2018    0.100215\n",
       "                                              2018-2019    0.108738\n",
       "                                              2019-2020    0.112099\n",
       "                                              2023-2024    0.065388\n",
       "                               True           2014-2015    0.120866\n",
       "                                              2015-2016    0.135140\n",
       "                                              2016-2017    0.119835\n",
       "                                              2017-2018    0.092504\n",
       "                                              2018-2019    0.084563\n",
       "                                              2019-2020    0.115093\n",
       "                                              2023-2024    0.060605\n",
       "                     True      False          2014-2015    0.095085\n",
       "                                              2015-2016    0.092178\n",
       "                                              2016-2017    0.089328\n",
       "                                              2017-2018    0.095543\n",
       "                                              2018-2019    0.088938\n",
       "                                              2019-2020    0.090209\n",
       "                                              2023-2024    0.039928\n",
       "                               True           2014-2015    0.085904\n",
       "                                              2015-2016    0.088928\n",
       "                                              2016-2017    0.084513\n",
       "                                              2017-2018    0.088870\n",
       "                                              2018-2019    0.072948\n",
       "                                              2019-2020    0.091412\n",
       "                                              2023-2024    0.034633\n",
       "Name: WIS, dtype: float64"
      ]
     },
     "execution_count": 3,
     "metadata": {},
     "output_type": "execute_result"
    }
   ],
   "source": [
    "pd.read_csv('accuracy.csv', parse_dates=True).groupby(['model','informed', 'use_ED_visits', 'season'])['WIS'].mean()"
   ]
  },
  {
   "cell_type": "code",
   "execution_count": null,
   "id": "26be122d-6aeb-4745-9f52-405720b9182b",
   "metadata": {},
   "outputs": [],
   "source": []
  }
 ],
 "metadata": {
  "kernelspec": {
   "display_name": "Python 3 (ipykernel)",
   "language": "python",
   "name": "python3"
  },
  "language_info": {
   "codemirror_mode": {
    "name": "ipython",
    "version": 3
   },
   "file_extension": ".py",
   "mimetype": "text/x-python",
   "name": "python",
   "nbconvert_exporter": "python",
   "pygments_lexer": "ipython3",
   "version": "3.12.5"
  }
 },
 "nbformat": 4,
 "nbformat_minor": 5
}
